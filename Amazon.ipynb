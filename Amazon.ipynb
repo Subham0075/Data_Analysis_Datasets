{
  "nbformat": 4,
  "nbformat_minor": 0,
  "metadata": {
    "colab": {
      "provenance": [],
      "authorship_tag": "ABX9TyMSnRnO6YH834IJLKZuv0FI",
      "include_colab_link": true
    },
    "kernelspec": {
      "name": "python3",
      "display_name": "Python 3"
    },
    "language_info": {
      "name": "python"
    }
  },
  "cells": [
    {
      "cell_type": "markdown",
      "metadata": {
        "id": "view-in-github",
        "colab_type": "text"
      },
      "source": [
        "<a href=\"https://colab.research.google.com/github/Subham0075/Data_Analysis_Datasets/blob/main/Amazon.ipynb\" target=\"_parent\"><img src=\"https://colab.research.google.com/assets/colab-badge.svg\" alt=\"Open In Colab\"/></a>"
      ]
    },
    {
      "cell_type": "code",
      "execution_count": null,
      "metadata": {
        "id": "3BaO8QB2uQ2f"
      },
      "outputs": [],
      "source": [
        "import pandas as pd"
      ]
    },
    {
      "cell_type": "code",
      "source": [
        "ama=pd.read_csv('/content/Amazon_Facing Low Customer Satisfaction in Singapore_Spreadsheet Supplement (1).xlsx - Raw Data.csv')"
      ],
      "metadata": {
        "id": "vuD51JsvvIWd"
      },
      "execution_count": null,
      "outputs": []
    },
    {
      "cell_type": "code",
      "source": [
        "ama"
      ],
      "metadata": {
        "colab": {
          "base_uri": "https://localhost:8080/",
          "height": 443
        },
        "id": "L2dym2RGvOLp",
        "outputId": "5285a4cb-2613-4b79-82b5-547554d4579b"
      },
      "execution_count": null,
      "outputs": [
        {
          "output_type": "execute_result",
          "data": {
            "text/plain": [
              "       uid     company_v  poverq  soverq  pq  satis  repur  recomm  Q19  \\\n",
              "0        5        ZALORA       9       7   6      7      6       5    0   \n",
              "1       11          FAVE       7       8   8      7      7       6    0   \n",
              "2       15          FAVE       6       7   7      6      6       6    0   \n",
              "3       19        AMAZON       8       8   7      8      8       6    0   \n",
              "4       20         QOO10       7       6   8      8      6       5    0   \n",
              "...    ...           ...     ...     ...  ..    ...    ...     ...  ...   \n",
              "1595  6066          FAVE       7       7   7      8      6       7    0   \n",
              "1596  6068          EBAY       7       9   9      8      9       6    0   \n",
              "1597  6070        ZALORA       6       6   8      7      9       9    0   \n",
              "1598  6079  TAOBAO/TMALL       7       8   8      7      7       8    0   \n",
              "1599  6087        AMAZON       6       6   6      8      9       8    1   \n",
              "\n",
              "      VN_1009_Q20A  ...  race  work  pincome  income  educat  childsupp  \\\n",
              "0                8  ...     1     1        2       4       8          1   \n",
              "1                8  ...     1     1        2       4       7         99   \n",
              "2                7  ...     1     1        4       5       8          2   \n",
              "3                8  ...     1     1        3       5       8          2   \n",
              "4                7  ...     1     1        4       5       8          2   \n",
              "...            ...  ...   ...   ...      ...     ...     ...        ...   \n",
              "1595             8  ...     1     3                7       7          4   \n",
              "1596             7  ...     1     1        7       8       7          4   \n",
              "1597             8  ...     1     2        3       8       7          1   \n",
              "1598             8  ...     1     1        4       9       8          2   \n",
              "1599             9  ...     1     1        3       7       8         99   \n",
              "\n",
              "      marital  gender  house        DOI  \n",
              "0           2       1      2  1/29/2018  \n",
              "1           1       1      2  1/29/2018  \n",
              "2           2       2      3   1/2/2018  \n",
              "3           2       2      3   1/2/2018  \n",
              "4           2       1      3   1/2/2018  \n",
              "...       ...     ...    ...        ...  \n",
              "1595        2       2      6  2/26/2018  \n",
              "1596        2       1      6  2/27/2018  \n",
              "1597        2       2      6  2/27/2018  \n",
              "1598        2       2      6   3/3/2018  \n",
              "1599        1       1      6   4/3/2018  \n",
              "\n",
              "[1600 rows x 50 columns]"
            ],
            "text/html": [
              "\n",
              "  <div id=\"df-1f9e9200-3bf0-43e7-9a5d-4a6132c02955\" class=\"colab-df-container\">\n",
              "    <div>\n",
              "<style scoped>\n",
              "    .dataframe tbody tr th:only-of-type {\n",
              "        vertical-align: middle;\n",
              "    }\n",
              "\n",
              "    .dataframe tbody tr th {\n",
              "        vertical-align: top;\n",
              "    }\n",
              "\n",
              "    .dataframe thead th {\n",
              "        text-align: right;\n",
              "    }\n",
              "</style>\n",
              "<table border=\"1\" class=\"dataframe\">\n",
              "  <thead>\n",
              "    <tr style=\"text-align: right;\">\n",
              "      <th></th>\n",
              "      <th>uid</th>\n",
              "      <th>company_v</th>\n",
              "      <th>poverq</th>\n",
              "      <th>soverq</th>\n",
              "      <th>pq</th>\n",
              "      <th>satis</th>\n",
              "      <th>repur</th>\n",
              "      <th>recomm</th>\n",
              "      <th>Q19</th>\n",
              "      <th>VN_1009_Q20A</th>\n",
              "      <th>...</th>\n",
              "      <th>race</th>\n",
              "      <th>work</th>\n",
              "      <th>pincome</th>\n",
              "      <th>income</th>\n",
              "      <th>educat</th>\n",
              "      <th>childsupp</th>\n",
              "      <th>marital</th>\n",
              "      <th>gender</th>\n",
              "      <th>house</th>\n",
              "      <th>DOI</th>\n",
              "    </tr>\n",
              "  </thead>\n",
              "  <tbody>\n",
              "    <tr>\n",
              "      <th>0</th>\n",
              "      <td>5</td>\n",
              "      <td>ZALORA</td>\n",
              "      <td>9</td>\n",
              "      <td>7</td>\n",
              "      <td>6</td>\n",
              "      <td>7</td>\n",
              "      <td>6</td>\n",
              "      <td>5</td>\n",
              "      <td>0</td>\n",
              "      <td>8</td>\n",
              "      <td>...</td>\n",
              "      <td>1</td>\n",
              "      <td>1</td>\n",
              "      <td>2</td>\n",
              "      <td>4</td>\n",
              "      <td>8</td>\n",
              "      <td>1</td>\n",
              "      <td>2</td>\n",
              "      <td>1</td>\n",
              "      <td>2</td>\n",
              "      <td>1/29/2018</td>\n",
              "    </tr>\n",
              "    <tr>\n",
              "      <th>1</th>\n",
              "      <td>11</td>\n",
              "      <td>FAVE</td>\n",
              "      <td>7</td>\n",
              "      <td>8</td>\n",
              "      <td>8</td>\n",
              "      <td>7</td>\n",
              "      <td>7</td>\n",
              "      <td>6</td>\n",
              "      <td>0</td>\n",
              "      <td>8</td>\n",
              "      <td>...</td>\n",
              "      <td>1</td>\n",
              "      <td>1</td>\n",
              "      <td>2</td>\n",
              "      <td>4</td>\n",
              "      <td>7</td>\n",
              "      <td>99</td>\n",
              "      <td>1</td>\n",
              "      <td>1</td>\n",
              "      <td>2</td>\n",
              "      <td>1/29/2018</td>\n",
              "    </tr>\n",
              "    <tr>\n",
              "      <th>2</th>\n",
              "      <td>15</td>\n",
              "      <td>FAVE</td>\n",
              "      <td>6</td>\n",
              "      <td>7</td>\n",
              "      <td>7</td>\n",
              "      <td>6</td>\n",
              "      <td>6</td>\n",
              "      <td>6</td>\n",
              "      <td>0</td>\n",
              "      <td>7</td>\n",
              "      <td>...</td>\n",
              "      <td>1</td>\n",
              "      <td>1</td>\n",
              "      <td>4</td>\n",
              "      <td>5</td>\n",
              "      <td>8</td>\n",
              "      <td>2</td>\n",
              "      <td>2</td>\n",
              "      <td>2</td>\n",
              "      <td>3</td>\n",
              "      <td>1/2/2018</td>\n",
              "    </tr>\n",
              "    <tr>\n",
              "      <th>3</th>\n",
              "      <td>19</td>\n",
              "      <td>AMAZON</td>\n",
              "      <td>8</td>\n",
              "      <td>8</td>\n",
              "      <td>7</td>\n",
              "      <td>8</td>\n",
              "      <td>8</td>\n",
              "      <td>6</td>\n",
              "      <td>0</td>\n",
              "      <td>8</td>\n",
              "      <td>...</td>\n",
              "      <td>1</td>\n",
              "      <td>1</td>\n",
              "      <td>3</td>\n",
              "      <td>5</td>\n",
              "      <td>8</td>\n",
              "      <td>2</td>\n",
              "      <td>2</td>\n",
              "      <td>2</td>\n",
              "      <td>3</td>\n",
              "      <td>1/2/2018</td>\n",
              "    </tr>\n",
              "    <tr>\n",
              "      <th>4</th>\n",
              "      <td>20</td>\n",
              "      <td>QOO10</td>\n",
              "      <td>7</td>\n",
              "      <td>6</td>\n",
              "      <td>8</td>\n",
              "      <td>8</td>\n",
              "      <td>6</td>\n",
              "      <td>5</td>\n",
              "      <td>0</td>\n",
              "      <td>7</td>\n",
              "      <td>...</td>\n",
              "      <td>1</td>\n",
              "      <td>1</td>\n",
              "      <td>4</td>\n",
              "      <td>5</td>\n",
              "      <td>8</td>\n",
              "      <td>2</td>\n",
              "      <td>2</td>\n",
              "      <td>1</td>\n",
              "      <td>3</td>\n",
              "      <td>1/2/2018</td>\n",
              "    </tr>\n",
              "    <tr>\n",
              "      <th>...</th>\n",
              "      <td>...</td>\n",
              "      <td>...</td>\n",
              "      <td>...</td>\n",
              "      <td>...</td>\n",
              "      <td>...</td>\n",
              "      <td>...</td>\n",
              "      <td>...</td>\n",
              "      <td>...</td>\n",
              "      <td>...</td>\n",
              "      <td>...</td>\n",
              "      <td>...</td>\n",
              "      <td>...</td>\n",
              "      <td>...</td>\n",
              "      <td>...</td>\n",
              "      <td>...</td>\n",
              "      <td>...</td>\n",
              "      <td>...</td>\n",
              "      <td>...</td>\n",
              "      <td>...</td>\n",
              "      <td>...</td>\n",
              "      <td>...</td>\n",
              "    </tr>\n",
              "    <tr>\n",
              "      <th>1595</th>\n",
              "      <td>6066</td>\n",
              "      <td>FAVE</td>\n",
              "      <td>7</td>\n",
              "      <td>7</td>\n",
              "      <td>7</td>\n",
              "      <td>8</td>\n",
              "      <td>6</td>\n",
              "      <td>7</td>\n",
              "      <td>0</td>\n",
              "      <td>8</td>\n",
              "      <td>...</td>\n",
              "      <td>1</td>\n",
              "      <td>3</td>\n",
              "      <td></td>\n",
              "      <td>7</td>\n",
              "      <td>7</td>\n",
              "      <td>4</td>\n",
              "      <td>2</td>\n",
              "      <td>2</td>\n",
              "      <td>6</td>\n",
              "      <td>2/26/2018</td>\n",
              "    </tr>\n",
              "    <tr>\n",
              "      <th>1596</th>\n",
              "      <td>6068</td>\n",
              "      <td>EBAY</td>\n",
              "      <td>7</td>\n",
              "      <td>9</td>\n",
              "      <td>9</td>\n",
              "      <td>8</td>\n",
              "      <td>9</td>\n",
              "      <td>6</td>\n",
              "      <td>0</td>\n",
              "      <td>7</td>\n",
              "      <td>...</td>\n",
              "      <td>1</td>\n",
              "      <td>1</td>\n",
              "      <td>7</td>\n",
              "      <td>8</td>\n",
              "      <td>7</td>\n",
              "      <td>4</td>\n",
              "      <td>2</td>\n",
              "      <td>1</td>\n",
              "      <td>6</td>\n",
              "      <td>2/27/2018</td>\n",
              "    </tr>\n",
              "    <tr>\n",
              "      <th>1597</th>\n",
              "      <td>6070</td>\n",
              "      <td>ZALORA</td>\n",
              "      <td>6</td>\n",
              "      <td>6</td>\n",
              "      <td>8</td>\n",
              "      <td>7</td>\n",
              "      <td>9</td>\n",
              "      <td>9</td>\n",
              "      <td>0</td>\n",
              "      <td>8</td>\n",
              "      <td>...</td>\n",
              "      <td>1</td>\n",
              "      <td>2</td>\n",
              "      <td>3</td>\n",
              "      <td>8</td>\n",
              "      <td>7</td>\n",
              "      <td>1</td>\n",
              "      <td>2</td>\n",
              "      <td>2</td>\n",
              "      <td>6</td>\n",
              "      <td>2/27/2018</td>\n",
              "    </tr>\n",
              "    <tr>\n",
              "      <th>1598</th>\n",
              "      <td>6079</td>\n",
              "      <td>TAOBAO/TMALL</td>\n",
              "      <td>7</td>\n",
              "      <td>8</td>\n",
              "      <td>8</td>\n",
              "      <td>7</td>\n",
              "      <td>7</td>\n",
              "      <td>8</td>\n",
              "      <td>0</td>\n",
              "      <td>8</td>\n",
              "      <td>...</td>\n",
              "      <td>1</td>\n",
              "      <td>1</td>\n",
              "      <td>4</td>\n",
              "      <td>9</td>\n",
              "      <td>8</td>\n",
              "      <td>2</td>\n",
              "      <td>2</td>\n",
              "      <td>2</td>\n",
              "      <td>6</td>\n",
              "      <td>3/3/2018</td>\n",
              "    </tr>\n",
              "    <tr>\n",
              "      <th>1599</th>\n",
              "      <td>6087</td>\n",
              "      <td>AMAZON</td>\n",
              "      <td>6</td>\n",
              "      <td>6</td>\n",
              "      <td>6</td>\n",
              "      <td>8</td>\n",
              "      <td>9</td>\n",
              "      <td>8</td>\n",
              "      <td>1</td>\n",
              "      <td>9</td>\n",
              "      <td>...</td>\n",
              "      <td>1</td>\n",
              "      <td>1</td>\n",
              "      <td>3</td>\n",
              "      <td>7</td>\n",
              "      <td>8</td>\n",
              "      <td>99</td>\n",
              "      <td>1</td>\n",
              "      <td>1</td>\n",
              "      <td>6</td>\n",
              "      <td>4/3/2018</td>\n",
              "    </tr>\n",
              "  </tbody>\n",
              "</table>\n",
              "<p>1600 rows × 50 columns</p>\n",
              "</div>\n",
              "    <div class=\"colab-df-buttons\">\n",
              "\n",
              "  <div class=\"colab-df-container\">\n",
              "    <button class=\"colab-df-convert\" onclick=\"convertToInteractive('df-1f9e9200-3bf0-43e7-9a5d-4a6132c02955')\"\n",
              "            title=\"Convert this dataframe to an interactive table.\"\n",
              "            style=\"display:none;\">\n",
              "\n",
              "  <svg xmlns=\"http://www.w3.org/2000/svg\" height=\"24px\" viewBox=\"0 -960 960 960\">\n",
              "    <path d=\"M120-120v-720h720v720H120Zm60-500h600v-160H180v160Zm220 220h160v-160H400v160Zm0 220h160v-160H400v160ZM180-400h160v-160H180v160Zm440 0h160v-160H620v160ZM180-180h160v-160H180v160Zm440 0h160v-160H620v160Z\"/>\n",
              "  </svg>\n",
              "    </button>\n",
              "\n",
              "  <style>\n",
              "    .colab-df-container {\n",
              "      display:flex;\n",
              "      gap: 12px;\n",
              "    }\n",
              "\n",
              "    .colab-df-convert {\n",
              "      background-color: #E8F0FE;\n",
              "      border: none;\n",
              "      border-radius: 50%;\n",
              "      cursor: pointer;\n",
              "      display: none;\n",
              "      fill: #1967D2;\n",
              "      height: 32px;\n",
              "      padding: 0 0 0 0;\n",
              "      width: 32px;\n",
              "    }\n",
              "\n",
              "    .colab-df-convert:hover {\n",
              "      background-color: #E2EBFA;\n",
              "      box-shadow: 0px 1px 2px rgba(60, 64, 67, 0.3), 0px 1px 3px 1px rgba(60, 64, 67, 0.15);\n",
              "      fill: #174EA6;\n",
              "    }\n",
              "\n",
              "    .colab-df-buttons div {\n",
              "      margin-bottom: 4px;\n",
              "    }\n",
              "\n",
              "    [theme=dark] .colab-df-convert {\n",
              "      background-color: #3B4455;\n",
              "      fill: #D2E3FC;\n",
              "    }\n",
              "\n",
              "    [theme=dark] .colab-df-convert:hover {\n",
              "      background-color: #434B5C;\n",
              "      box-shadow: 0px 1px 3px 1px rgba(0, 0, 0, 0.15);\n",
              "      filter: drop-shadow(0px 1px 2px rgba(0, 0, 0, 0.3));\n",
              "      fill: #FFFFFF;\n",
              "    }\n",
              "  </style>\n",
              "\n",
              "    <script>\n",
              "      const buttonEl =\n",
              "        document.querySelector('#df-1f9e9200-3bf0-43e7-9a5d-4a6132c02955 button.colab-df-convert');\n",
              "      buttonEl.style.display =\n",
              "        google.colab.kernel.accessAllowed ? 'block' : 'none';\n",
              "\n",
              "      async function convertToInteractive(key) {\n",
              "        const element = document.querySelector('#df-1f9e9200-3bf0-43e7-9a5d-4a6132c02955');\n",
              "        const dataTable =\n",
              "          await google.colab.kernel.invokeFunction('convertToInteractive',\n",
              "                                                    [key], {});\n",
              "        if (!dataTable) return;\n",
              "\n",
              "        const docLinkHtml = 'Like what you see? Visit the ' +\n",
              "          '<a target=\"_blank\" href=https://colab.research.google.com/notebooks/data_table.ipynb>data table notebook</a>'\n",
              "          + ' to learn more about interactive tables.';\n",
              "        element.innerHTML = '';\n",
              "        dataTable['output_type'] = 'display_data';\n",
              "        await google.colab.output.renderOutput(dataTable, element);\n",
              "        const docLink = document.createElement('div');\n",
              "        docLink.innerHTML = docLinkHtml;\n",
              "        element.appendChild(docLink);\n",
              "      }\n",
              "    </script>\n",
              "  </div>\n",
              "\n",
              "\n",
              "<div id=\"df-06f8ccd8-ef0e-4486-97c1-804b3b2186c4\">\n",
              "  <button class=\"colab-df-quickchart\" onclick=\"quickchart('df-06f8ccd8-ef0e-4486-97c1-804b3b2186c4')\"\n",
              "            title=\"Suggest charts\"\n",
              "            style=\"display:none;\">\n",
              "\n",
              "<svg xmlns=\"http://www.w3.org/2000/svg\" height=\"24px\"viewBox=\"0 0 24 24\"\n",
              "     width=\"24px\">\n",
              "    <g>\n",
              "        <path d=\"M19 3H5c-1.1 0-2 .9-2 2v14c0 1.1.9 2 2 2h14c1.1 0 2-.9 2-2V5c0-1.1-.9-2-2-2zM9 17H7v-7h2v7zm4 0h-2V7h2v10zm4 0h-2v-4h2v4z\"/>\n",
              "    </g>\n",
              "</svg>\n",
              "  </button>\n",
              "\n",
              "<style>\n",
              "  .colab-df-quickchart {\n",
              "      --bg-color: #E8F0FE;\n",
              "      --fill-color: #1967D2;\n",
              "      --hover-bg-color: #E2EBFA;\n",
              "      --hover-fill-color: #174EA6;\n",
              "      --disabled-fill-color: #AAA;\n",
              "      --disabled-bg-color: #DDD;\n",
              "  }\n",
              "\n",
              "  [theme=dark] .colab-df-quickchart {\n",
              "      --bg-color: #3B4455;\n",
              "      --fill-color: #D2E3FC;\n",
              "      --hover-bg-color: #434B5C;\n",
              "      --hover-fill-color: #FFFFFF;\n",
              "      --disabled-bg-color: #3B4455;\n",
              "      --disabled-fill-color: #666;\n",
              "  }\n",
              "\n",
              "  .colab-df-quickchart {\n",
              "    background-color: var(--bg-color);\n",
              "    border: none;\n",
              "    border-radius: 50%;\n",
              "    cursor: pointer;\n",
              "    display: none;\n",
              "    fill: var(--fill-color);\n",
              "    height: 32px;\n",
              "    padding: 0;\n",
              "    width: 32px;\n",
              "  }\n",
              "\n",
              "  .colab-df-quickchart:hover {\n",
              "    background-color: var(--hover-bg-color);\n",
              "    box-shadow: 0 1px 2px rgba(60, 64, 67, 0.3), 0 1px 3px 1px rgba(60, 64, 67, 0.15);\n",
              "    fill: var(--button-hover-fill-color);\n",
              "  }\n",
              "\n",
              "  .colab-df-quickchart-complete:disabled,\n",
              "  .colab-df-quickchart-complete:disabled:hover {\n",
              "    background-color: var(--disabled-bg-color);\n",
              "    fill: var(--disabled-fill-color);\n",
              "    box-shadow: none;\n",
              "  }\n",
              "\n",
              "  .colab-df-spinner {\n",
              "    border: 2px solid var(--fill-color);\n",
              "    border-color: transparent;\n",
              "    border-bottom-color: var(--fill-color);\n",
              "    animation:\n",
              "      spin 1s steps(1) infinite;\n",
              "  }\n",
              "\n",
              "  @keyframes spin {\n",
              "    0% {\n",
              "      border-color: transparent;\n",
              "      border-bottom-color: var(--fill-color);\n",
              "      border-left-color: var(--fill-color);\n",
              "    }\n",
              "    20% {\n",
              "      border-color: transparent;\n",
              "      border-left-color: var(--fill-color);\n",
              "      border-top-color: var(--fill-color);\n",
              "    }\n",
              "    30% {\n",
              "      border-color: transparent;\n",
              "      border-left-color: var(--fill-color);\n",
              "      border-top-color: var(--fill-color);\n",
              "      border-right-color: var(--fill-color);\n",
              "    }\n",
              "    40% {\n",
              "      border-color: transparent;\n",
              "      border-right-color: var(--fill-color);\n",
              "      border-top-color: var(--fill-color);\n",
              "    }\n",
              "    60% {\n",
              "      border-color: transparent;\n",
              "      border-right-color: var(--fill-color);\n",
              "    }\n",
              "    80% {\n",
              "      border-color: transparent;\n",
              "      border-right-color: var(--fill-color);\n",
              "      border-bottom-color: var(--fill-color);\n",
              "    }\n",
              "    90% {\n",
              "      border-color: transparent;\n",
              "      border-bottom-color: var(--fill-color);\n",
              "    }\n",
              "  }\n",
              "</style>\n",
              "\n",
              "  <script>\n",
              "    async function quickchart(key) {\n",
              "      const quickchartButtonEl =\n",
              "        document.querySelector('#' + key + ' button');\n",
              "      quickchartButtonEl.disabled = true;  // To prevent multiple clicks.\n",
              "      quickchartButtonEl.classList.add('colab-df-spinner');\n",
              "      try {\n",
              "        const charts = await google.colab.kernel.invokeFunction(\n",
              "            'suggestCharts', [key], {});\n",
              "      } catch (error) {\n",
              "        console.error('Error during call to suggestCharts:', error);\n",
              "      }\n",
              "      quickchartButtonEl.classList.remove('colab-df-spinner');\n",
              "      quickchartButtonEl.classList.add('colab-df-quickchart-complete');\n",
              "    }\n",
              "    (() => {\n",
              "      let quickchartButtonEl =\n",
              "        document.querySelector('#df-06f8ccd8-ef0e-4486-97c1-804b3b2186c4 button');\n",
              "      quickchartButtonEl.style.display =\n",
              "        google.colab.kernel.accessAllowed ? 'block' : 'none';\n",
              "    })();\n",
              "  </script>\n",
              "</div>\n",
              "\n",
              "  <div id=\"id_131b3e7a-717a-49ee-8d68-6747617765d0\">\n",
              "    <style>\n",
              "      .colab-df-generate {\n",
              "        background-color: #E8F0FE;\n",
              "        border: none;\n",
              "        border-radius: 50%;\n",
              "        cursor: pointer;\n",
              "        display: none;\n",
              "        fill: #1967D2;\n",
              "        height: 32px;\n",
              "        padding: 0 0 0 0;\n",
              "        width: 32px;\n",
              "      }\n",
              "\n",
              "      .colab-df-generate:hover {\n",
              "        background-color: #E2EBFA;\n",
              "        box-shadow: 0px 1px 2px rgba(60, 64, 67, 0.3), 0px 1px 3px 1px rgba(60, 64, 67, 0.15);\n",
              "        fill: #174EA6;\n",
              "      }\n",
              "\n",
              "      [theme=dark] .colab-df-generate {\n",
              "        background-color: #3B4455;\n",
              "        fill: #D2E3FC;\n",
              "      }\n",
              "\n",
              "      [theme=dark] .colab-df-generate:hover {\n",
              "        background-color: #434B5C;\n",
              "        box-shadow: 0px 1px 3px 1px rgba(0, 0, 0, 0.15);\n",
              "        filter: drop-shadow(0px 1px 2px rgba(0, 0, 0, 0.3));\n",
              "        fill: #FFFFFF;\n",
              "      }\n",
              "    </style>\n",
              "    <button class=\"colab-df-generate\" onclick=\"generateWithVariable('ama')\"\n",
              "            title=\"Generate code using this dataframe.\"\n",
              "            style=\"display:none;\">\n",
              "\n",
              "  <svg xmlns=\"http://www.w3.org/2000/svg\" height=\"24px\"viewBox=\"0 0 24 24\"\n",
              "       width=\"24px\">\n",
              "    <path d=\"M7,19H8.4L18.45,9,17,7.55,7,17.6ZM5,21V16.75L18.45,3.32a2,2,0,0,1,2.83,0l1.4,1.43a1.91,1.91,0,0,1,.58,1.4,1.91,1.91,0,0,1-.58,1.4L9.25,21ZM18.45,9,17,7.55Zm-12,3A5.31,5.31,0,0,0,4.9,8.1,5.31,5.31,0,0,0,1,6.5,5.31,5.31,0,0,0,4.9,4.9,5.31,5.31,0,0,0,6.5,1,5.31,5.31,0,0,0,8.1,4.9,5.31,5.31,0,0,0,12,6.5,5.46,5.46,0,0,0,6.5,12Z\"/>\n",
              "  </svg>\n",
              "    </button>\n",
              "    <script>\n",
              "      (() => {\n",
              "      const buttonEl =\n",
              "        document.querySelector('#id_131b3e7a-717a-49ee-8d68-6747617765d0 button.colab-df-generate');\n",
              "      buttonEl.style.display =\n",
              "        google.colab.kernel.accessAllowed ? 'block' : 'none';\n",
              "\n",
              "      buttonEl.onclick = () => {\n",
              "        google.colab.notebook.generateWithVariable('ama');\n",
              "      }\n",
              "      })();\n",
              "    </script>\n",
              "  </div>\n",
              "\n",
              "    </div>\n",
              "  </div>\n"
            ],
            "application/vnd.google.colaboratory.intrinsic+json": {
              "type": "dataframe",
              "variable_name": "ama"
            }
          },
          "metadata": {},
          "execution_count": 7
        }
      ]
    },
    {
      "cell_type": "code",
      "source": [
        "ama.info()"
      ],
      "metadata": {
        "colab": {
          "base_uri": "https://localhost:8080/"
        },
        "id": "wA_FgzdYvVTQ",
        "outputId": "04b0c3e1-2f6e-4cb0-ea1f-91e691223506"
      },
      "execution_count": null,
      "outputs": [
        {
          "output_type": "stream",
          "name": "stdout",
          "text": [
            "<class 'pandas.core.frame.DataFrame'>\n",
            "RangeIndex: 1600 entries, 0 to 1599\n",
            "Data columns (total 50 columns):\n",
            " #   Column                 Non-Null Count  Dtype \n",
            "---  ------                 --------------  ----- \n",
            " 0   uid                    1600 non-null   int64 \n",
            " 1   company_v              1600 non-null   object\n",
            " 2   poverq                 1600 non-null   int64 \n",
            " 3   soverq                 1600 non-null   int64 \n",
            " 4   pq                     1600 non-null   int64 \n",
            " 5   satis                  1600 non-null   int64 \n",
            " 6   repur                  1600 non-null   int64 \n",
            " 7   recomm                 1600 non-null   int64 \n",
            " 8   Q19                    1600 non-null   int64 \n",
            " 9   VN_1009_Q20A           1600 non-null   int64 \n",
            " 10  VN_1009_TP01           1600 non-null   int64 \n",
            " 11  VN_1009_TP02           1600 non-null   int64 \n",
            " 12  VN_1009_TP03           1600 non-null   int64 \n",
            " 13  VN_1009_TP04           1600 non-null   int64 \n",
            " 14  VN_1009_TP05           1600 non-null   int64 \n",
            " 15  VN_1009_TP06           1600 non-null   int64 \n",
            " 16  VN_1009_TP07           1600 non-null   int64 \n",
            " 17  VN_1009_TP08           1600 non-null   int64 \n",
            " 18  VN_1009_TP09           1600 non-null   int64 \n",
            " 19  VN_1009_TP10           1600 non-null   int64 \n",
            " 20  VN_1009_TP11           1600 non-null   int64 \n",
            " 21  VN_1009_TP12           1600 non-null   int64 \n",
            " 22  VN_1009_TP13           1600 non-null   int64 \n",
            " 23  VN_1009_TP14           1600 non-null   int64 \n",
            " 24  VN_1009_TP15           1600 non-null   int64 \n",
            " 25  VN_1009_TP16           1600 non-null   int64 \n",
            " 26  VN_1009_TP17           1600 non-null   int64 \n",
            " 27  VN_1009_TP18           1600 non-null   int64 \n",
            " 28  VN_1009_TP19           1600 non-null   int64 \n",
            " 29  VN_1009_TP20           1600 non-null   int64 \n",
            " 30  VN_1009_TP21           1600 non-null   int64 \n",
            " 31  VN_1009_TP21_6specify  1600 non-null   object\n",
            " 32  VN_1009_TP24_1         1600 non-null   int64 \n",
            " 33  VN_1009_TP24_2         1600 non-null   int64 \n",
            " 34  VN_1009_TP22           1600 non-null   object\n",
            " 35  VN_1009_TP23           1600 non-null   object\n",
            " 36  Q9C_P                  1600 non-null   int64 \n",
            " 37  Q9D                    1600 non-null   int64 \n",
            " 38  VN_1009_TP25A          1600 non-null   int64 \n",
            " 39  age                    1600 non-null   int64 \n",
            " 40  race                   1600 non-null   int64 \n",
            " 41  work                   1600 non-null   int64 \n",
            " 42  pincome                1600 non-null   object\n",
            " 43  income                 1600 non-null   int64 \n",
            " 44  educat                 1600 non-null   int64 \n",
            " 45  childsupp              1600 non-null   int64 \n",
            " 46  marital                1600 non-null   int64 \n",
            " 47  gender                 1600 non-null   int64 \n",
            " 48  house                  1600 non-null   int64 \n",
            " 49  DOI                    1600 non-null   object\n",
            "dtypes: int64(44), object(6)\n",
            "memory usage: 625.1+ KB\n"
          ]
        }
      ]
    },
    {
      "cell_type": "code",
      "source": [
        "ama.dtypes"
      ],
      "metadata": {
        "colab": {
          "base_uri": "https://localhost:8080/"
        },
        "id": "YR-VL4OeviUt",
        "outputId": "d5eea3d6-f182-460f-a19c-b19a92b51f0f"
      },
      "execution_count": null,
      "outputs": [
        {
          "output_type": "execute_result",
          "data": {
            "text/plain": [
              "uid                       int64\n",
              "company_v                object\n",
              "poverq                    int64\n",
              "soverq                    int64\n",
              "pq                        int64\n",
              "satis                     int64\n",
              "repur                     int64\n",
              "recomm                    int64\n",
              "Q19                       int64\n",
              "VN_1009_Q20A              int64\n",
              "VN_1009_TP01              int64\n",
              "VN_1009_TP02              int64\n",
              "VN_1009_TP03              int64\n",
              "VN_1009_TP04              int64\n",
              "VN_1009_TP05              int64\n",
              "VN_1009_TP06              int64\n",
              "VN_1009_TP07              int64\n",
              "VN_1009_TP08              int64\n",
              "VN_1009_TP09              int64\n",
              "VN_1009_TP10              int64\n",
              "VN_1009_TP11              int64\n",
              "VN_1009_TP12              int64\n",
              "VN_1009_TP13              int64\n",
              "VN_1009_TP14              int64\n",
              "VN_1009_TP15              int64\n",
              "VN_1009_TP16              int64\n",
              "VN_1009_TP17              int64\n",
              "VN_1009_TP18              int64\n",
              "VN_1009_TP19              int64\n",
              "VN_1009_TP20              int64\n",
              "VN_1009_TP21              int64\n",
              "VN_1009_TP21_6specify    object\n",
              "VN_1009_TP24_1            int64\n",
              "VN_1009_TP24_2            int64\n",
              "VN_1009_TP22             object\n",
              "VN_1009_TP23             object\n",
              "Q9C_P                     int64\n",
              "Q9D                       int64\n",
              "VN_1009_TP25A             int64\n",
              "age                       int64\n",
              "race                      int64\n",
              "work                      int64\n",
              "pincome                  object\n",
              "income                    int64\n",
              "educat                    int64\n",
              "childsupp                 int64\n",
              "marital                   int64\n",
              "gender                    int64\n",
              "house                     int64\n",
              "DOI                      object\n",
              "dtype: object"
            ]
          },
          "metadata": {},
          "execution_count": 5
        }
      ]
    },
    {
      "cell_type": "code",
      "source": [
        "ama.isnull().sum()"
      ],
      "metadata": {
        "colab": {
          "base_uri": "https://localhost:8080/"
        },
        "id": "tc9ognSgvuQn",
        "outputId": "c7da973e-f60f-44e3-aebd-97e07fba0887"
      },
      "execution_count": null,
      "outputs": [
        {
          "output_type": "execute_result",
          "data": {
            "text/plain": [
              "uid                      0\n",
              "company_v                0\n",
              "poverq                   0\n",
              "soverq                   0\n",
              "pq                       0\n",
              "satis                    0\n",
              "repur                    0\n",
              "recomm                   0\n",
              "Q19                      0\n",
              "VN_1009_Q20A             0\n",
              "VN_1009_TP01             0\n",
              "VN_1009_TP02             0\n",
              "VN_1009_TP03             0\n",
              "VN_1009_TP04             0\n",
              "VN_1009_TP05             0\n",
              "VN_1009_TP06             0\n",
              "VN_1009_TP07             0\n",
              "VN_1009_TP08             0\n",
              "VN_1009_TP09             0\n",
              "VN_1009_TP10             0\n",
              "VN_1009_TP11             0\n",
              "VN_1009_TP12             0\n",
              "VN_1009_TP13             0\n",
              "VN_1009_TP14             0\n",
              "VN_1009_TP15             0\n",
              "VN_1009_TP16             0\n",
              "VN_1009_TP17             0\n",
              "VN_1009_TP18             0\n",
              "VN_1009_TP19             0\n",
              "VN_1009_TP20             0\n",
              "VN_1009_TP21             0\n",
              "VN_1009_TP21_6specify    0\n",
              "VN_1009_TP24_1           0\n",
              "VN_1009_TP24_2           0\n",
              "VN_1009_TP22             0\n",
              "VN_1009_TP23             0\n",
              "Q9C_P                    0\n",
              "Q9D                      0\n",
              "VN_1009_TP25A            0\n",
              "age                      0\n",
              "race                     0\n",
              "work                     0\n",
              "pincome                  0\n",
              "income                   0\n",
              "educat                   0\n",
              "childsupp                0\n",
              "marital                  0\n",
              "gender                   0\n",
              "house                    0\n",
              "DOI                      0\n",
              "dtype: int64"
            ]
          },
          "metadata": {},
          "execution_count": 7
        }
      ]
    },
    {
      "cell_type": "code",
      "source": [
        "ama.describe(include='O')"
      ],
      "metadata": {
        "colab": {
          "base_uri": "https://localhost:8080/",
          "height": 194
        },
        "id": "pSqj0BPAv2A9",
        "outputId": "84af37ae-4711-4ef2-d2d2-6e8cc90390d7"
      },
      "execution_count": null,
      "outputs": [
        {
          "output_type": "execute_result",
          "data": {
            "text/plain": [
              "       company_v VN_1009_TP21_6specify VN_1009_TP22 VN_1009_TP23 pincome  \\\n",
              "count       1600                  1600         1600         1600    1600   \n",
              "unique        21                    12            8            8      11   \n",
              "top       ZALORA                                  7                    4   \n",
              "freq         200                  1377          466          710     369   \n",
              "\n",
              "              DOI  \n",
              "count        1600  \n",
              "unique         77  \n",
              "top     2/27/2018  \n",
              "freq           46  "
            ],
            "text/html": [
              "\n",
              "  <div id=\"df-78b080bd-69a3-4087-8613-03aab80e3919\" class=\"colab-df-container\">\n",
              "    <div>\n",
              "<style scoped>\n",
              "    .dataframe tbody tr th:only-of-type {\n",
              "        vertical-align: middle;\n",
              "    }\n",
              "\n",
              "    .dataframe tbody tr th {\n",
              "        vertical-align: top;\n",
              "    }\n",
              "\n",
              "    .dataframe thead th {\n",
              "        text-align: right;\n",
              "    }\n",
              "</style>\n",
              "<table border=\"1\" class=\"dataframe\">\n",
              "  <thead>\n",
              "    <tr style=\"text-align: right;\">\n",
              "      <th></th>\n",
              "      <th>company_v</th>\n",
              "      <th>VN_1009_TP21_6specify</th>\n",
              "      <th>VN_1009_TP22</th>\n",
              "      <th>VN_1009_TP23</th>\n",
              "      <th>pincome</th>\n",
              "      <th>DOI</th>\n",
              "    </tr>\n",
              "  </thead>\n",
              "  <tbody>\n",
              "    <tr>\n",
              "      <th>count</th>\n",
              "      <td>1600</td>\n",
              "      <td>1600</td>\n",
              "      <td>1600</td>\n",
              "      <td>1600</td>\n",
              "      <td>1600</td>\n",
              "      <td>1600</td>\n",
              "    </tr>\n",
              "    <tr>\n",
              "      <th>unique</th>\n",
              "      <td>21</td>\n",
              "      <td>12</td>\n",
              "      <td>8</td>\n",
              "      <td>8</td>\n",
              "      <td>11</td>\n",
              "      <td>77</td>\n",
              "    </tr>\n",
              "    <tr>\n",
              "      <th>top</th>\n",
              "      <td>ZALORA</td>\n",
              "      <td></td>\n",
              "      <td>7</td>\n",
              "      <td></td>\n",
              "      <td>4</td>\n",
              "      <td>2/27/2018</td>\n",
              "    </tr>\n",
              "    <tr>\n",
              "      <th>freq</th>\n",
              "      <td>200</td>\n",
              "      <td>1377</td>\n",
              "      <td>466</td>\n",
              "      <td>710</td>\n",
              "      <td>369</td>\n",
              "      <td>46</td>\n",
              "    </tr>\n",
              "  </tbody>\n",
              "</table>\n",
              "</div>\n",
              "    <div class=\"colab-df-buttons\">\n",
              "\n",
              "  <div class=\"colab-df-container\">\n",
              "    <button class=\"colab-df-convert\" onclick=\"convertToInteractive('df-78b080bd-69a3-4087-8613-03aab80e3919')\"\n",
              "            title=\"Convert this dataframe to an interactive table.\"\n",
              "            style=\"display:none;\">\n",
              "\n",
              "  <svg xmlns=\"http://www.w3.org/2000/svg\" height=\"24px\" viewBox=\"0 -960 960 960\">\n",
              "    <path d=\"M120-120v-720h720v720H120Zm60-500h600v-160H180v160Zm220 220h160v-160H400v160Zm0 220h160v-160H400v160ZM180-400h160v-160H180v160Zm440 0h160v-160H620v160ZM180-180h160v-160H180v160Zm440 0h160v-160H620v160Z\"/>\n",
              "  </svg>\n",
              "    </button>\n",
              "\n",
              "  <style>\n",
              "    .colab-df-container {\n",
              "      display:flex;\n",
              "      gap: 12px;\n",
              "    }\n",
              "\n",
              "    .colab-df-convert {\n",
              "      background-color: #E8F0FE;\n",
              "      border: none;\n",
              "      border-radius: 50%;\n",
              "      cursor: pointer;\n",
              "      display: none;\n",
              "      fill: #1967D2;\n",
              "      height: 32px;\n",
              "      padding: 0 0 0 0;\n",
              "      width: 32px;\n",
              "    }\n",
              "\n",
              "    .colab-df-convert:hover {\n",
              "      background-color: #E2EBFA;\n",
              "      box-shadow: 0px 1px 2px rgba(60, 64, 67, 0.3), 0px 1px 3px 1px rgba(60, 64, 67, 0.15);\n",
              "      fill: #174EA6;\n",
              "    }\n",
              "\n",
              "    .colab-df-buttons div {\n",
              "      margin-bottom: 4px;\n",
              "    }\n",
              "\n",
              "    [theme=dark] .colab-df-convert {\n",
              "      background-color: #3B4455;\n",
              "      fill: #D2E3FC;\n",
              "    }\n",
              "\n",
              "    [theme=dark] .colab-df-convert:hover {\n",
              "      background-color: #434B5C;\n",
              "      box-shadow: 0px 1px 3px 1px rgba(0, 0, 0, 0.15);\n",
              "      filter: drop-shadow(0px 1px 2px rgba(0, 0, 0, 0.3));\n",
              "      fill: #FFFFFF;\n",
              "    }\n",
              "  </style>\n",
              "\n",
              "    <script>\n",
              "      const buttonEl =\n",
              "        document.querySelector('#df-78b080bd-69a3-4087-8613-03aab80e3919 button.colab-df-convert');\n",
              "      buttonEl.style.display =\n",
              "        google.colab.kernel.accessAllowed ? 'block' : 'none';\n",
              "\n",
              "      async function convertToInteractive(key) {\n",
              "        const element = document.querySelector('#df-78b080bd-69a3-4087-8613-03aab80e3919');\n",
              "        const dataTable =\n",
              "          await google.colab.kernel.invokeFunction('convertToInteractive',\n",
              "                                                    [key], {});\n",
              "        if (!dataTable) return;\n",
              "\n",
              "        const docLinkHtml = 'Like what you see? Visit the ' +\n",
              "          '<a target=\"_blank\" href=https://colab.research.google.com/notebooks/data_table.ipynb>data table notebook</a>'\n",
              "          + ' to learn more about interactive tables.';\n",
              "        element.innerHTML = '';\n",
              "        dataTable['output_type'] = 'display_data';\n",
              "        await google.colab.output.renderOutput(dataTable, element);\n",
              "        const docLink = document.createElement('div');\n",
              "        docLink.innerHTML = docLinkHtml;\n",
              "        element.appendChild(docLink);\n",
              "      }\n",
              "    </script>\n",
              "  </div>\n",
              "\n",
              "\n",
              "<div id=\"df-332c5bdc-cbc7-448c-9bb2-888c33b34715\">\n",
              "  <button class=\"colab-df-quickchart\" onclick=\"quickchart('df-332c5bdc-cbc7-448c-9bb2-888c33b34715')\"\n",
              "            title=\"Suggest charts\"\n",
              "            style=\"display:none;\">\n",
              "\n",
              "<svg xmlns=\"http://www.w3.org/2000/svg\" height=\"24px\"viewBox=\"0 0 24 24\"\n",
              "     width=\"24px\">\n",
              "    <g>\n",
              "        <path d=\"M19 3H5c-1.1 0-2 .9-2 2v14c0 1.1.9 2 2 2h14c1.1 0 2-.9 2-2V5c0-1.1-.9-2-2-2zM9 17H7v-7h2v7zm4 0h-2V7h2v10zm4 0h-2v-4h2v4z\"/>\n",
              "    </g>\n",
              "</svg>\n",
              "  </button>\n",
              "\n",
              "<style>\n",
              "  .colab-df-quickchart {\n",
              "      --bg-color: #E8F0FE;\n",
              "      --fill-color: #1967D2;\n",
              "      --hover-bg-color: #E2EBFA;\n",
              "      --hover-fill-color: #174EA6;\n",
              "      --disabled-fill-color: #AAA;\n",
              "      --disabled-bg-color: #DDD;\n",
              "  }\n",
              "\n",
              "  [theme=dark] .colab-df-quickchart {\n",
              "      --bg-color: #3B4455;\n",
              "      --fill-color: #D2E3FC;\n",
              "      --hover-bg-color: #434B5C;\n",
              "      --hover-fill-color: #FFFFFF;\n",
              "      --disabled-bg-color: #3B4455;\n",
              "      --disabled-fill-color: #666;\n",
              "  }\n",
              "\n",
              "  .colab-df-quickchart {\n",
              "    background-color: var(--bg-color);\n",
              "    border: none;\n",
              "    border-radius: 50%;\n",
              "    cursor: pointer;\n",
              "    display: none;\n",
              "    fill: var(--fill-color);\n",
              "    height: 32px;\n",
              "    padding: 0;\n",
              "    width: 32px;\n",
              "  }\n",
              "\n",
              "  .colab-df-quickchart:hover {\n",
              "    background-color: var(--hover-bg-color);\n",
              "    box-shadow: 0 1px 2px rgba(60, 64, 67, 0.3), 0 1px 3px 1px rgba(60, 64, 67, 0.15);\n",
              "    fill: var(--button-hover-fill-color);\n",
              "  }\n",
              "\n",
              "  .colab-df-quickchart-complete:disabled,\n",
              "  .colab-df-quickchart-complete:disabled:hover {\n",
              "    background-color: var(--disabled-bg-color);\n",
              "    fill: var(--disabled-fill-color);\n",
              "    box-shadow: none;\n",
              "  }\n",
              "\n",
              "  .colab-df-spinner {\n",
              "    border: 2px solid var(--fill-color);\n",
              "    border-color: transparent;\n",
              "    border-bottom-color: var(--fill-color);\n",
              "    animation:\n",
              "      spin 1s steps(1) infinite;\n",
              "  }\n",
              "\n",
              "  @keyframes spin {\n",
              "    0% {\n",
              "      border-color: transparent;\n",
              "      border-bottom-color: var(--fill-color);\n",
              "      border-left-color: var(--fill-color);\n",
              "    }\n",
              "    20% {\n",
              "      border-color: transparent;\n",
              "      border-left-color: var(--fill-color);\n",
              "      border-top-color: var(--fill-color);\n",
              "    }\n",
              "    30% {\n",
              "      border-color: transparent;\n",
              "      border-left-color: var(--fill-color);\n",
              "      border-top-color: var(--fill-color);\n",
              "      border-right-color: var(--fill-color);\n",
              "    }\n",
              "    40% {\n",
              "      border-color: transparent;\n",
              "      border-right-color: var(--fill-color);\n",
              "      border-top-color: var(--fill-color);\n",
              "    }\n",
              "    60% {\n",
              "      border-color: transparent;\n",
              "      border-right-color: var(--fill-color);\n",
              "    }\n",
              "    80% {\n",
              "      border-color: transparent;\n",
              "      border-right-color: var(--fill-color);\n",
              "      border-bottom-color: var(--fill-color);\n",
              "    }\n",
              "    90% {\n",
              "      border-color: transparent;\n",
              "      border-bottom-color: var(--fill-color);\n",
              "    }\n",
              "  }\n",
              "</style>\n",
              "\n",
              "  <script>\n",
              "    async function quickchart(key) {\n",
              "      const quickchartButtonEl =\n",
              "        document.querySelector('#' + key + ' button');\n",
              "      quickchartButtonEl.disabled = true;  // To prevent multiple clicks.\n",
              "      quickchartButtonEl.classList.add('colab-df-spinner');\n",
              "      try {\n",
              "        const charts = await google.colab.kernel.invokeFunction(\n",
              "            'suggestCharts', [key], {});\n",
              "      } catch (error) {\n",
              "        console.error('Error during call to suggestCharts:', error);\n",
              "      }\n",
              "      quickchartButtonEl.classList.remove('colab-df-spinner');\n",
              "      quickchartButtonEl.classList.add('colab-df-quickchart-complete');\n",
              "    }\n",
              "    (() => {\n",
              "      let quickchartButtonEl =\n",
              "        document.querySelector('#df-332c5bdc-cbc7-448c-9bb2-888c33b34715 button');\n",
              "      quickchartButtonEl.style.display =\n",
              "        google.colab.kernel.accessAllowed ? 'block' : 'none';\n",
              "    })();\n",
              "  </script>\n",
              "</div>\n",
              "\n",
              "    </div>\n",
              "  </div>\n"
            ],
            "application/vnd.google.colaboratory.intrinsic+json": {
              "type": "dataframe",
              "summary": "{\n  \"name\": \"ama\",\n  \"rows\": 4,\n  \"fields\": [\n    {\n      \"column\": \"company_v\",\n      \"properties\": {\n        \"dtype\": \"string\",\n        \"num_unique_values\": 4,\n        \"samples\": [\n          21,\n          \"200\",\n          \"1600\"\n        ],\n        \"semantic_type\": \"\",\n        \"description\": \"\"\n      }\n    },\n    {\n      \"column\": \"VN_1009_TP21_6specify\",\n      \"properties\": {\n        \"dtype\": \"string\",\n        \"num_unique_values\": 4,\n        \"samples\": [\n          12,\n          \"1377\",\n          \"1600\"\n        ],\n        \"semantic_type\": \"\",\n        \"description\": \"\"\n      }\n    },\n    {\n      \"column\": \"VN_1009_TP22\",\n      \"properties\": {\n        \"dtype\": \"string\",\n        \"num_unique_values\": 4,\n        \"samples\": [\n          8,\n          \"466\",\n          \"1600\"\n        ],\n        \"semantic_type\": \"\",\n        \"description\": \"\"\n      }\n    },\n    {\n      \"column\": \"VN_1009_TP23\",\n      \"properties\": {\n        \"dtype\": \"string\",\n        \"num_unique_values\": 4,\n        \"samples\": [\n          8,\n          \"710\",\n          \"1600\"\n        ],\n        \"semantic_type\": \"\",\n        \"description\": \"\"\n      }\n    },\n    {\n      \"column\": \"pincome\",\n      \"properties\": {\n        \"dtype\": \"string\",\n        \"num_unique_values\": 4,\n        \"samples\": [\n          11,\n          \"369\",\n          \"1600\"\n        ],\n        \"semantic_type\": \"\",\n        \"description\": \"\"\n      }\n    },\n    {\n      \"column\": \"DOI\",\n      \"properties\": {\n        \"dtype\": \"date\",\n        \"min\": \"1970-01-01 00:00:00.000000046\",\n        \"max\": \"2018-02-27 00:00:00\",\n        \"num_unique_values\": 4,\n        \"samples\": [\n          77,\n          \"46\",\n          \"1600\"\n        ],\n        \"semantic_type\": \"\",\n        \"description\": \"\"\n      }\n    }\n  ]\n}"
            }
          },
          "metadata": {},
          "execution_count": 9
        }
      ]
    },
    {
      "cell_type": "code",
      "source": [
        "ama.columns.unique()"
      ],
      "metadata": {
        "colab": {
          "base_uri": "https://localhost:8080/"
        },
        "id": "0bxK0SYPwJ8B",
        "outputId": "b2f0deb8-c048-4730-b573-af01f4004b08"
      },
      "execution_count": null,
      "outputs": [
        {
          "output_type": "execute_result",
          "data": {
            "text/plain": [
              "Index(['uid', 'company_v', 'poverq', 'soverq', 'pq', 'satis', 'repur',\n",
              "       'recomm', 'Q19', 'VN_1009_Q20A', 'VN_1009_TP01', 'VN_1009_TP02',\n",
              "       'VN_1009_TP03', 'VN_1009_TP04', 'VN_1009_TP05', 'VN_1009_TP06',\n",
              "       'VN_1009_TP07', 'VN_1009_TP08', 'VN_1009_TP09', 'VN_1009_TP10',\n",
              "       'VN_1009_TP11', 'VN_1009_TP12', 'VN_1009_TP13', 'VN_1009_TP14',\n",
              "       'VN_1009_TP15', 'VN_1009_TP16', 'VN_1009_TP17', 'VN_1009_TP18',\n",
              "       'VN_1009_TP19', 'VN_1009_TP20', 'VN_1009_TP21', 'VN_1009_TP21_6specify',\n",
              "       'VN_1009_TP24_1', 'VN_1009_TP24_2', 'VN_1009_TP22', 'VN_1009_TP23',\n",
              "       'Q9C_P', 'Q9D', 'VN_1009_TP25A', 'age', 'race', 'work', 'pincome',\n",
              "       'income', 'educat', 'childsupp', 'marital', 'gender', 'house', 'DOI'],\n",
              "      dtype='object')"
            ]
          },
          "metadata": {},
          "execution_count": 9
        }
      ]
    },
    {
      "cell_type": "code",
      "source": [
        "h=0\n",
        "for i in ama.columns:\n",
        "    if i == ' ':\n",
        "        h+=1\n",
        "print(h)"
      ],
      "metadata": {
        "colab": {
          "base_uri": "https://localhost:8080/"
        },
        "id": "s0f0eKFRxRyQ",
        "outputId": "a52a73f9-3e68-4536-90f9-3a7ae0dc102d"
      },
      "execution_count": null,
      "outputs": [
        {
          "output_type": "stream",
          "name": "stdout",
          "text": [
            "0\n"
          ]
        }
      ]
    },
    {
      "cell_type": "code",
      "source": [
        "for i in ama.columns:\n",
        "    print(i,'=','\\t',sum(ama[i]==' '))"
      ],
      "metadata": {
        "colab": {
          "base_uri": "https://localhost:8080/"
        },
        "id": "DUJtJOkuwwhx",
        "outputId": "d26497b3-07dc-4f0a-9c9d-0a77fc8383a0"
      },
      "execution_count": null,
      "outputs": [
        {
          "output_type": "stream",
          "name": "stdout",
          "text": [
            "uid = \t 0\n",
            "company_v = \t 0\n",
            "poverq = \t 0\n",
            "soverq = \t 0\n",
            "pq = \t 0\n",
            "satis = \t 0\n",
            "repur = \t 0\n",
            "recomm = \t 0\n",
            "Q19 = \t 0\n",
            "VN_1009_Q20A = \t 0\n",
            "VN_1009_TP01 = \t 0\n",
            "VN_1009_TP02 = \t 0\n",
            "VN_1009_TP03 = \t 0\n",
            "VN_1009_TP04 = \t 0\n",
            "VN_1009_TP05 = \t 0\n",
            "VN_1009_TP06 = \t 0\n",
            "VN_1009_TP07 = \t 0\n",
            "VN_1009_TP08 = \t 0\n",
            "VN_1009_TP09 = \t 0\n",
            "VN_1009_TP10 = \t 0\n",
            "VN_1009_TP11 = \t 0\n",
            "VN_1009_TP12 = \t 0\n",
            "VN_1009_TP13 = \t 0\n",
            "VN_1009_TP14 = \t 0\n",
            "VN_1009_TP15 = \t 0\n",
            "VN_1009_TP16 = \t 0\n",
            "VN_1009_TP17 = \t 0\n",
            "VN_1009_TP18 = \t 0\n",
            "VN_1009_TP19 = \t 0\n",
            "VN_1009_TP20 = \t 0\n",
            "VN_1009_TP21 = \t 0\n",
            "VN_1009_TP21_6specify = \t 1377\n",
            "VN_1009_TP24_1 = \t 0\n",
            "VN_1009_TP24_2 = \t 0\n",
            "VN_1009_TP22 = \t 221\n",
            "VN_1009_TP23 = \t 710\n",
            "Q9C_P = \t 0\n",
            "Q9D = \t 0\n",
            "VN_1009_TP25A = \t 0\n",
            "age = \t 0\n",
            "race = \t 0\n",
            "work = \t 0\n",
            "pincome = \t 196\n",
            "income = \t 0\n",
            "educat = \t 0\n",
            "childsupp = \t 0\n",
            "marital = \t 0\n",
            "gender = \t 0\n",
            "house = \t 0\n",
            "DOI = \t 0\n"
          ]
        }
      ]
    },
    {
      "cell_type": "code",
      "source": [
        "ama.pincome = ama.pincome.replace(' ',4).astype('int64')\n",
        "ama.VN_1009_TP22 = ama.VN_1009_TP22.replace(' ',7).astype('int64')"
      ],
      "metadata": {
        "id": "XLyOYzUCyLi2"
      },
      "execution_count": null,
      "outputs": []
    },
    {
      "cell_type": "code",
      "source": [
        "ama.pincome.unique()"
      ],
      "metadata": {
        "id": "iGSGZptGzKbD",
        "colab": {
          "base_uri": "https://localhost:8080/"
        },
        "outputId": "adb260e2-110c-4ad2-d8b4-c7c9464a75db"
      },
      "execution_count": null,
      "outputs": [
        {
          "output_type": "execute_result",
          "data": {
            "text/plain": [
              "array([ 2,  4,  3,  5,  6, 98,  1,  7,  8,  9])"
            ]
          },
          "metadata": {},
          "execution_count": 13
        }
      ]
    },
    {
      "cell_type": "code",
      "source": [
        "ama.VN_1009_TP22.unique()"
      ],
      "metadata": {
        "colab": {
          "base_uri": "https://localhost:8080/"
        },
        "id": "d4fuBK8wzll4",
        "outputId": "1004c0cb-a8f1-4b81-f6dd-04b2ccc9800b"
      },
      "execution_count": null,
      "outputs": [
        {
          "output_type": "execute_result",
          "data": {
            "text/plain": [
              "array([ 7,  6,  8,  9, 10,  5,  4])"
            ]
          },
          "metadata": {},
          "execution_count": 14
        }
      ]
    },
    {
      "cell_type": "code",
      "source": [],
      "metadata": {
        "id": "_FWy80OMRF59"
      },
      "execution_count": null,
      "outputs": []
    },
    {
      "cell_type": "code",
      "source": [
        "import matplotlib.pyplot as plt\n",
        "import seaborn as sns\n",
        "import numpy as np"
      ],
      "metadata": {
        "id": "GFq2YjXmJ7vr"
      },
      "execution_count": null,
      "outputs": []
    },
    {
      "cell_type": "code",
      "source": [
        "a=ama.VN_1009_TP03[:6:1]"
      ],
      "metadata": {
        "id": "Nf22PqyLKnge"
      },
      "execution_count": null,
      "outputs": []
    },
    {
      "cell_type": "code",
      "source": [
        "b=ama.age[:6:1]"
      ],
      "metadata": {
        "id": "Q3DAEPlYOEGL"
      },
      "execution_count": null,
      "outputs": []
    },
    {
      "cell_type": "code",
      "source": [
        "c=ama.poverq[:6:1]"
      ],
      "metadata": {
        "id": "AI0AuqEnPLO0"
      },
      "execution_count": null,
      "outputs": []
    },
    {
      "cell_type": "code",
      "source": [
        "d=ama.VN_1009_TP01[:6:1]"
      ],
      "metadata": {
        "id": "EMf2ROPCPucL"
      },
      "execution_count": null,
      "outputs": []
    },
    {
      "cell_type": "code",
      "source": [
        "plt.bar(a,b,label='Blue')\n",
        "plt.bar(c,d,label='Orange')\n",
        "plt.title('Bar Plot')\n",
        "plt.xlabel('X')\n",
        "plt.ylabel('Y')\n",
        "plt.grid()\n",
        "plt.legend()\n",
        "plt.show()"
      ],
      "metadata": {
        "colab": {
          "base_uri": "https://localhost:8080/",
          "height": 472
        },
        "id": "-lK3S0bpLbgY",
        "outputId": "02bc51ec-49fc-486d-8550-d14edd15079b"
      },
      "execution_count": null,
      "outputs": [
        {
          "output_type": "display_data",
          "data": {
            "text/plain": [
              "<Figure size 640x480 with 1 Axes>"
            ],
            "image/png": "[encoded data removed]"
          },
          "metadata": {}
        }
      ]
    },
    {
      "cell_type": "code",
      "source": [
        "plt.plot(a,b,'r--',lw=3)\n",
        "plt.title('Line Plot')\n",
        "plt.xlabel('X')\n",
        "plt.ylabel('Y')\n",
        "plt.grid()\n",
        "plt.show()"
      ],
      "metadata": {
        "colab": {
          "base_uri": "https://localhost:8080/",
          "height": 472
        },
        "id": "j6A0rDQORGz-",
        "outputId": "43b4fa3c-4ce7-4318-c0bd-b8ab20e89b59"
      },
      "execution_count": null,
      "outputs": [
        {
          "output_type": "display_data",
          "data": {
            "text/plain": [
              "<Figure size 640x480 with 1 Axes>"
            ],
            "image/png": "[encoded data removed]"
          },
          "metadata": {}
        }
      ]
    },
    {
      "cell_type": "code",
      "source": [
        "cd = ama.age[:5:1]"
      ],
      "metadata": {
        "id": "7DaUEt5fRgHd"
      },
      "execution_count": null,
      "outputs": []
    },
    {
      "cell_type": "code",
      "source": [
        "plt.hist(cd,bins=15,histtype='bar',rwidth=0.5)\n",
        "plt.show()"
      ],
      "metadata": {
        "colab": {
          "base_uri": "https://localhost:8080/",
          "height": 430
        },
        "id": "YZt8980OSHFe",
        "outputId": "a69dfaac-1b7a-4b4a-997a-03816d6d88e8"
      },
      "execution_count": null,
      "outputs": [
        {
          "output_type": "display_data",
          "data": {
            "text/plain": [
              "<Figure size 640x480 with 1 Axes>"
            ],
            "image/png": "[encoded data removed]"
          },
          "metadata": {}
        }
      ]
    },
    {
      "cell_type": "code",
      "source": [
        "plt.scatter(a,b,color='red',s=100,marker='*')\n",
        "plt.show()"
      ],
      "metadata": {
        "colab": {
          "base_uri": "https://localhost:8080/",
          "height": 430
        },
        "id": "T9tReXE8TYuw",
        "outputId": "96e35e20-c1b1-4821-d12a-11364015b4de"
      },
      "execution_count": null,
      "outputs": [
        {
          "output_type": "display_data",
          "data": {
            "text/plain": [
              "<Figure size 640x480 with 1 Axes>"
            ],
            "image/png": "[encoded data removed]"
          },
          "metadata": {}
        }
      ]
    },
    {
      "cell_type": "code",
      "source": [
        "ama.company_v.value_counts()"
      ],
      "metadata": {
        "colab": {
          "base_uri": "https://localhost:8080/"
        },
        "id": "y6hgTTPxT0S3",
        "outputId": "76f40c79-685b-41e2-fa4c-a0681faf2879"
      },
      "execution_count": null,
      "outputs": [
        {
          "output_type": "execute_result",
          "data": {
            "text/plain": [
              "company_v\n",
              "ZALORA          200\n",
              "EBAY            200\n",
              "AMAZON          200\n",
              "QOO10           200\n",
              "FAVE            200\n",
              "CAROUSELL       200\n",
              "TAOBAO/TMALL    200\n",
              "LAZADA           42\n",
              "EZBUY            26\n",
              "ALIEXPRESS       24\n",
              "ASOS             19\n",
              "REEBONZ          15\n",
              "SHOPEE           15\n",
              "REDMART          11\n",
              "NET-A-PORTER      9\n",
              "SSENSE            9\n",
              "SHOPBOP           8\n",
              "HONESTBEE         8\n",
              "DRESSABELLE       6\n",
              "WISH              5\n",
              "RAKUTEN           3\n",
              "Name: count, dtype: int64"
            ]
          },
          "metadata": {},
          "execution_count": 55
        }
      ]
    },
    {
      "cell_type": "code",
      "source": [
        "z=['ZALORA','EBAY','AMAZON','Q0010','FAVE','CAROUSELL','TAOBAO/TMALL','LAZADA','EZBUY','ALIEXPRESS','ASOS','REEBONZ','SHOPEE','REDMART','NET-A-PORTER','SSENSE','SHOPBOP','HONESTBEE','DRESSABELLE','WISH','RAKUTEN']"
      ],
      "metadata": {
        "id": "k4CgGeNuVOgQ"
      },
      "execution_count": null,
      "outputs": []
    },
    {
      "cell_type": "code",
      "source": [
        "v=[200,200,200,200,200,200,200,42,26,24,19,15,15,11,9,9,8,8,6,5,3]"
      ],
      "metadata": {
        "id": "Mw0cBi4iWawz"
      },
      "execution_count": null,
      "outputs": []
    },
    {
      "cell_type": "code",
      "source": [
        "explodes=[0,0,0.4,0,0,0,0,0,0,0,0,0,0,0,0,0,0,0,0,0,0]"
      ],
      "metadata": {
        "id": "YpD9kj5hXxyN"
      },
      "execution_count": null,
      "outputs": []
    },
    {
      "cell_type": "code",
      "source": [
        "plt.pie(v,labels=z,autopct='%1.1f%%',shadow=True,explode=explodes)\n",
        "plt.show()"
      ],
      "metadata": {
        "colab": {
          "base_uri": "https://localhost:8080/",
          "height": 433
        },
        "id": "Fiq8G4SQW3cR",
        "outputId": "2eb0d9b9-6c6d-4a69-b0a2-660dcdf88188"
      },
      "execution_count": null,
      "outputs": [
        {
          "output_type": "display_data",
          "data": {
            "text/plain": [
              "<Figure size 640x480 with 1 Axes>"
            ],
            "image/png": "[encoded data removed]"
          },
          "metadata": {}
        }
      ]
    }
  ]
}